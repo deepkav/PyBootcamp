{
 "cells": [
  {
   "cell_type": "markdown",
   "metadata": {},
   "source": [
    "# Day 5 Functions"
   ]
  },
  {
   "cell_type": "markdown",
   "metadata": {},
   "source": [
    "**Some Basic examples**"
   ]
  },
  {
   "cell_type": "code",
   "execution_count": 2,
   "metadata": {},
   "outputs": [
    {
     "name": "stdout",
     "output_type": "stream",
     "text": [
      "First Player:  Sachin\n",
      "Second Player:  Kohli\n"
     ]
    }
   ],
   "source": [
    "def fav(fpname = \"Dhoni\",spname = \"Kohli\"):\n",
    "    print('First Player: ',fpname)\n",
    "    print('Second Player: ',spname)\n",
    "fav(\"Sachin\")"
   ]
  },
  {
   "cell_type": "markdown",
   "metadata": {},
   "source": [
    "**Arbitary Arguments**"
   ]
  },
  {
   "cell_type": "code",
   "execution_count": 1,
   "metadata": {},
   "outputs": [
    {
     "name": "stdout",
     "output_type": "stream",
     "text": [
      "Players :  ('Sachin', 'Yuvraj', 'Rohit')\n",
      "Next Player:  Virat\n"
     ]
    }
   ],
   "source": [
    "def fav(*names ,name = \"Kohli\"):  #If the number of arguments is unknown, add a * before the parameter name\n",
    "    print('Players : ',names)\n",
    "    print('Next Player: ',name)\n",
    "fav(\"Sachin\",\"Yuvraj\",\"Rohit\",name=\"Virat\")"
   ]
  },
  {
   "cell_type": "markdown",
   "metadata": {},
   "source": [
    "**Keyword Arguments**"
   ]
  },
  {
   "cell_type": "code",
   "execution_count": 3,
   "metadata": {},
   "outputs": [
    {
     "name": "stdout",
     "output_type": "stream",
     "text": [
      "present tense of 'do' is doing\n"
     ]
    }
   ],
   "source": [
    "def tense(past, present, future):\n",
    "  print(\"present tense of 'do' is \" + present)\n",
    "\n",
    "tense(present=\"doing\", past=\"done\", future=\"done\")"
   ]
  },
  {
   "cell_type": "markdown",
   "metadata": {},
   "source": [
    "**Arbitrary Keyword Arguments, kwargs**"
   ]
  },
  {
   "cell_type": "code",
   "execution_count": 4,
   "metadata": {},
   "outputs": [
    {
     "name": "stdout",
     "output_type": "stream",
     "text": [
      "His last name is Refsnes\n"
     ]
    }
   ],
   "source": [
    "\"\"\"\n",
    "If you do not know how many keyword arguments that will be passed into your function, add two asterisk: **\n",
    "before the parameter name in the function definition.\n",
    "\"\"\"\n",
    "def my_function(**kid):\n",
    "  print(\"His last name is \" + kid[\"lname\"])\n",
    "\n",
    "my_function(fname = \"Tobias\", lname = \"Refsnes\")"
   ]
  },
  {
   "cell_type": "markdown",
   "metadata": {},
   "source": [
    "**Exercise 1**"
   ]
  },
  {
   "cell_type": "code",
   "execution_count": 6,
   "metadata": {},
   "outputs": [
    {
     "name": "stdout",
     "output_type": "stream",
     "text": [
      "Enter 1st number: 10\n",
      "Enter 2st number: 20\n",
      "Addition of Two Numbers is: 30\n",
      "Subtraction of Two Numbers is: -10\n",
      "Division of Two Numbers is: 0.5\n",
      "Multiplication of Two Numbers is: 200\n"
     ]
    }
   ],
   "source": [
    "def func():\n",
    "    a,b=int(input('Enter 1st number: ')),int(input('Enter 2st number: '))\n",
    "    print(f'Addition of Two Numbers is: {a+b}')\n",
    "    print(f'Subtraction of Two Numbers is: {a-b}')\n",
    "    print(f'Division of Two Numbers is: {a/b}')\n",
    "    print(f'Multiplication of Two Numbers is: {a*b}')\n",
    "func()"
   ]
  },
  {
   "cell_type": "markdown",
   "metadata": {},
   "source": [
    "**Exercise 2**"
   ]
  },
  {
   "cell_type": "code",
   "execution_count": 9,
   "metadata": {},
   "outputs": [
    {
     "name": "stdout",
     "output_type": "stream",
     "text": [
      "patient name: John \n",
      "body Temperature: 98\n"
     ]
    }
   ],
   "source": [
    "def covid(patient_name,body_temperature=98):\n",
    "    print('patient name:',patient_name,'\\nbody Temperature:',body_temperature)\n",
    "covid('John')"
   ]
  }
 ],
 "metadata": {
  "kernelspec": {
   "display_name": "Python 3",
   "language": "python",
   "name": "python3"
  },
  "language_info": {
   "codemirror_mode": {
    "name": "ipython",
    "version": 3
   },
   "file_extension": ".py",
   "mimetype": "text/x-python",
   "name": "python",
   "nbconvert_exporter": "python",
   "pygments_lexer": "ipython3",
   "version": "3.8.5"
  }
 },
 "nbformat": 4,
 "nbformat_minor": 4
}
