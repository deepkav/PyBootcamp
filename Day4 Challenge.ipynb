{
 "cells": [
  {
   "cell_type": "markdown",
   "metadata": {},
   "source": [
    "# Day4 - User Inputs, Lists, Tuples"
   ]
  },
  {
   "cell_type": "markdown",
   "metadata": {},
   "source": [
    "**Lists**"
   ]
  },
  {
   "cell_type": "code",
   "execution_count": 1,
   "metadata": {},
   "outputs": [
    {
     "name": "stdout",
     "output_type": "stream",
     "text": [
      "[1, 2, 3, 4, 5, 6]\n",
      "[1, 2, 3, 4, 5, 6, 7]\n",
      "[1, 2, 3, 4, 4.5, 5, 6, 7]\n"
     ]
    }
   ],
   "source": [
    "lst = [1,2,3,4,5,6]\n",
    "print(lst)\n",
    "lst.append(7)\n",
    "print(lst)\n",
    "lst.insert(4,4.5)\n",
    "print(lst)"
   ]
  },
  {
   "cell_type": "code",
   "execution_count": 5,
   "metadata": {},
   "outputs": [
    {
     "name": "stdout",
     "output_type": "stream",
     "text": [
      "Clearing Lst\n",
      "[]\n",
      "Extending the List 'lst' with 10 to 1\n",
      "[10, 9, 8, 7, 6, 5, 4, 3, 2, 1]\n"
     ]
    }
   ],
   "source": [
    "print(\"Clearing Lst\")\n",
    "lst.clear()\n",
    "print(lst)\n",
    "print(\"Extending the List 'lst' with 10 to 1\")\n",
    "lst.extend(range(10,0,-1))\n",
    "print(lst)"
   ]
  },
  {
   "cell_type": "code",
   "execution_count": 6,
   "metadata": {},
   "outputs": [
    {
     "name": "stdout",
     "output_type": "stream",
     "text": [
      "<class 'tuple'>\n",
      "Sorted tuple:  [4, 5, 7]\n"
     ]
    }
   ],
   "source": [
    "tup = (4,5,7)\n",
    "print(type(tup))\n",
    "print(\"Sorted tuple: \",sorted(tup))"
   ]
  },
  {
   "cell_type": "markdown",
   "metadata": {},
   "source": [
    "**Exercise 1**"
   ]
  },
  {
   "cell_type": "code",
   "execution_count": 4,
   "metadata": {},
   "outputs": [
    {
     "name": "stdout",
     "output_type": "stream",
     "text": [
      "printing initial list elements :[1, 2, 5, 6, 2, 3, 8, 4, 5]\n",
      "Append an item using In-Built Function:\n",
      "[1, 2, 5, 6, 2, 3, 8, 4, 5, 8]\n",
      "Delete an element using indices with In-Built Function:\n",
      "[1, 2, 5, 6, 2, 8, 4, 5, 8]\n",
      "Store largest and smallest elements into variables\n",
      "Largest : 8\n",
      "Smallest : 1\n"
     ]
    }
   ],
   "source": [
    "ls = [1,2,5,6,2,3,8,4,5]\n",
    "print(f'printing initial list elements :{ls}')  #Concatenation of String and variables using 'f'\n",
    "print('Append an item using In-Built Function:')\n",
    "ls.append(8)\n",
    "print(ls)\n",
    "print('Delete an element using indices with In-Built Function:')\n",
    "del(ls[5])\n",
    "print(ls)\n",
    "print('Store largest and smallest elements into variables')\n",
    "var1 = max(ls)\n",
    "var2 = min(ls)\n",
    "print('Largest :',var1)\n",
    "print('Smallest :',var2)"
   ]
  },
  {
   "cell_type": "markdown",
   "metadata": {},
   "source": [
    "**Exercise 2**"
   ]
  },
  {
   "cell_type": "code",
   "execution_count": 7,
   "metadata": {},
   "outputs": [
    {
     "name": "stdout",
     "output_type": "stream",
     "text": [
      "printing the reverse of a tuple\n",
      "Reverse of  (1, 2, 3, 4, 5, 6)  = \n",
      "(6, 5, 4, 3, 2, 1)\n"
     ]
    }
   ],
   "source": [
    "print('printing the reverse of a tuple')\n",
    "tu = (1,2,3,4,5,6)\n",
    "print('Reverse of ',tu,' = ')\n",
    "ls2 = list(tu)\n",
    "ls2.reverse()\n",
    "tu = tuple(ls2)\n",
    "print(tu)"
   ]
  },
  {
   "cell_type": "markdown",
   "metadata": {},
   "source": [
    "**Exercise 3**\n",
    "Create a tuple and convert into a list"
   ]
  },
  {
   "cell_type": "code",
   "execution_count": 8,
   "metadata": {},
   "outputs": [
    {
     "name": "stdout",
     "output_type": "stream",
     "text": [
      "(6, 78, 4, 4, 234, 5, 90)\n",
      "Printing the list:  [6, 78, 4, 4, 234, 5, 90]\n"
     ]
    }
   ],
   "source": [
    "tupl = (6,78,4,4,234,5,90)\n",
    "print(tupl)\n",
    "ls1 = list(tupl)\n",
    "print(\"Printing the list: \",ls1)"
   ]
  }
 ],
 "metadata": {
  "kernelspec": {
   "display_name": "Python 3",
   "language": "python",
   "name": "python3"
  },
  "language_info": {
   "codemirror_mode": {
    "name": "ipython",
    "version": 3
   },
   "file_extension": ".py",
   "mimetype": "text/x-python",
   "name": "python",
   "nbconvert_exporter": "python",
   "pygments_lexer": "ipython3",
   "version": "3.8.5"
  }
 },
 "nbformat": 4,
 "nbformat_minor": 4
}
