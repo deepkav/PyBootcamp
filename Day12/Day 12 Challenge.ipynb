{
 "cells": [
  {
   "cell_type": "markdown",
   "metadata": {},
   "source": [
    "# Importing JSON data into database"
   ]
  },
  {
   "cell_type": "code",
   "execution_count": 1,
   "metadata": {},
   "outputs": [
    {
     "name": "stdout",
     "output_type": "stream",
     "text": [
      "[\n",
      "    [\n",
      "        \"str\",\n",
      "        \"Welcome to BestEnlist Python Bootcamp\"\n",
      "    ],\n",
      "    [\n",
      "        \"int\",\n",
      "        21\n",
      "    ],\n",
      "    [\n",
      "        \"float\",\n",
      "        3.14\n",
      "    ],\n",
      "    [\n",
      "        \"complex\",\n",
      "        \"5 + 7j\"\n",
      "    ],\n",
      "    [\n",
      "        \"list\",\n",
      "        \"[1, 2, 3, 4, 5]\"\n",
      "    ],\n",
      "    [\n",
      "        \"tuple\",\n",
      "        \"(3, 5)\"\n",
      "    ],\n",
      "    [\n",
      "        \"dict\",\n",
      "        \"{'Hello': 5, 'Hi': 2, 'Welcome': 7}\"\n",
      "    ],\n",
      "    [\n",
      "        \"set\",\n",
      "        \"{1, 2, 3, 4, 5}\"\n",
      "    ],\n",
      "    [\n",
      "        \"bool\",\n",
      "        \"true\"\n",
      "    ]\n",
      "]\n",
      "Type of some variable after after converting it into python datatype\n",
      "<class 'float'>\n"
     ]
    }
   ],
   "source": [
    "import json\n",
    "fname = 'data.json'\n",
    "y = open(fname).read()\n",
    "y = json.loads(y)\n",
    "print(json.dumps(y, indent=4))\n",
    "print('Type of some variable after after converting it into python datatype')\n",
    "print(type(y[2][1]))"
   ]
  },
  {
   "cell_type": "code",
   "execution_count": 2,
   "metadata": {},
   "outputs": [],
   "source": [
    "import mysql.connector as sql\n",
    "con = sql.connect(host=\"localhost\", user=\"root\",password=\"\", database=\"lab\", port=\"3306\")\n",
    "mycursor = con.cursor()\n",
    "mycursor.execute(\"DROP TABLE if exists jsondata;\")\n",
    "mycursor.execute(\"CREATE TABLE jsondata (DataType VARCHAR(255), samplevalues VARCHAR(255))\")"
   ]
  },
  {
   "cell_type": "code",
   "execution_count": 3,
   "metadata": {},
   "outputs": [
    {
     "name": "stdout",
     "output_type": "stream",
     "text": [
      "[('str', 'Welcome to BestEnlist Python Bootcamp'), ('int', 21), ('float', 3.14), ('complex', '5 + 7j'), ('list', '[1, 2, 3, 4, 5]'), ('tuple', '(3, 5)'), ('dict', \"{'Hello': 5, 'Hi': 2, 'Welcome': 7}\"), ('set', '{1, 2, 3, 4, 5}'), ('bool', 'true')]\n"
     ]
    }
   ],
   "source": [
    "sql = \"INSERT INTO jsondata VALUES (%s, %s)\"\n",
    "val = []\n",
    "for entry in y:\n",
    "    tup = (entry[0],entry[1])\n",
    "    val.append(tup)\n",
    "    \n",
    "print(val)\n",
    "mycursor.executemany(sql,val)\n",
    "con.commit()"
   ]
  },
  {
   "cell_type": "code",
   "execution_count": 4,
   "metadata": {},
   "outputs": [],
   "source": [
    "mycursor.close()\n",
    "con.close()"
   ]
  }
 ],
 "metadata": {
  "kernelspec": {
   "display_name": "Python 3",
   "language": "python",
   "name": "python3"
  },
  "language_info": {
   "codemirror_mode": {
    "name": "ipython",
    "version": 3
   },
   "file_extension": ".py",
   "mimetype": "text/x-python",
   "name": "python",
   "nbconvert_exporter": "python",
   "pygments_lexer": "ipython3",
   "version": "3.9.0"
  }
 },
 "nbformat": 4,
 "nbformat_minor": 4
}
