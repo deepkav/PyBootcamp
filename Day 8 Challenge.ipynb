{
 "cells": [
  {
   "cell_type": "markdown",
   "metadata": {},
   "source": [
    "# Exception Handling"
   ]
  },
  {
   "cell_type": "markdown",
   "metadata": {},
   "source": [
    "**Exercise 1** List down all the error types and check all the errors using python program"
   ]
  },
  {
   "cell_type": "code",
   "execution_count": 1,
   "metadata": {},
   "outputs": [
    {
     "name": "stdout",
     "output_type": "stream",
     "text": [
      "Division By Zero\n",
      "finally Block\n"
     ]
    }
   ],
   "source": [
    "#Division By Zero\n",
    "try:\n",
    "    a = 12/0\n",
    "    print(a)\n",
    "    \n",
    "except ZeroDivisionError:\n",
    "    print(\"Division By Zero\")\n",
    "    \n",
    "finally:\n",
    "    print(\"finally Block\")"
   ]
  },
  {
   "cell_type": "code",
   "execution_count": 2,
   "metadata": {},
   "outputs": [
    {
     "name": "stdout",
     "output_type": "stream",
     "text": [
      "Name is not defined\n"
     ]
    }
   ],
   "source": [
    "#Name Error\n",
    "try:\n",
    "    print(b)\n",
    "    \n",
    "except:\n",
    "    print(\"Name is not defined\")\n",
    "    \n",
    "else:   #Else block gets executed only if exception block is not invoked\n",
    "    print(\"End of Code\")"
   ]
  },
  {
   "cell_type": "code",
   "execution_count": 3,
   "metadata": {},
   "outputs": [
    {
     "name": "stdout",
     "output_type": "stream",
     "text": [
      "Type Error Unsupported operand\n",
      "Finally Block\n"
     ]
    }
   ],
   "source": [
    "#Type Error\n",
    "try:\n",
    "    a = '3'\n",
    "    b = 5\n",
    "    print(b/a)\n",
    "    \n",
    "except (TypeError,):\n",
    "    print(\"Type Error Unsupported operand\")\n",
    "    \n",
    "else:\n",
    "    print(\"No Exception\")\n",
    "finally:\n",
    "    print(\"Finally Block\")"
   ]
  },
  {
   "cell_type": "code",
   "execution_count": 4,
   "metadata": {},
   "outputs": [
    {
     "name": "stdout",
     "output_type": "stream",
     "text": [
      "No Attributes Found with that name\n"
     ]
    }
   ],
   "source": [
    "#Attribute Error\n",
    "import mypackage\n",
    "\n",
    "try:\n",
    "    print(mypackage.lst1)\n",
    "\n",
    "except AttributeError:\n",
    "    print('No Attributes Found with that name')\n",
    "\n",
    "else:\n",
    "    print('Successful Execution')"
   ]
  },
  {
   "cell_type": "code",
   "execution_count": 5,
   "metadata": {},
   "outputs": [
    {
     "name": "stdout",
     "output_type": "stream",
     "text": [
      "Incompatible Value\n"
     ]
    }
   ],
   "source": [
    "#value Error\n",
    "try:\n",
    "    a = int('5+7j')\n",
    "    print(a)\n",
    "\n",
    "except ValueError:\n",
    "    print('Incompatible Value')"
   ]
  },
  {
   "cell_type": "markdown",
   "metadata": {},
   "source": [
    "**Exercise 2**  Design a simple calculator app with try and except for all use cases"
   ]
  },
  {
   "cell_type": "code",
   "execution_count": 6,
   "metadata": {},
   "outputs": [
    {
     "name": "stdout",
     "output_type": "stream",
     "text": [
      "Enter Mathematical Exp as :\n",
      "number1<space>symbol<space>number2:\t7 / 0\n",
      "Exception !!\n",
      " division by zero\n"
     ]
    }
   ],
   "source": [
    "try:\n",
    "    num1,op,num2 = input('Enter Mathematical Exp as :\\nnumber1<space>symbol<space>number2:\\t').split()\n",
    "    num1=int(num1); num2=int(num2)\n",
    "    if op == '+':\n",
    "        print(\"=\",num1+num2)\n",
    "    elif op == '-':\n",
    "        print(\"=\",num1-num2)\n",
    "    elif op == '*':\n",
    "        print(\"=\",num1*num2)\n",
    "    elif op == '/':\n",
    "        print(\"=\",num1/num2)\n",
    "    else:\n",
    "        print(\"please enter Correct operator\")\n",
    "except Exception as e:\n",
    "    print('Exception !!\\n',e)"
   ]
  },
  {
   "cell_type": "markdown",
   "metadata": {},
   "source": [
    "**Exercise 3**   print one message if the try block raises a NameError and another for other errors"
   ]
  },
  {
   "cell_type": "code",
   "execution_count": 7,
   "metadata": {},
   "outputs": [
    {
     "name": "stdout",
     "output_type": "stream",
     "text": [
      "Value is not defined\n"
     ]
    }
   ],
   "source": [
    "try:\n",
    "    print(val)\n",
    "    print(5/0)\n",
    "except NameError:\n",
    "    print(\"Value is not defined\")\n",
    "    \n",
    "except Exception as e:\n",
    "    print('Exception !!\\n',e)"
   ]
  },
  {
   "cell_type": "markdown",
   "metadata": {},
   "source": [
    "**Exercise 4**  When try-except scenario is not required?"
   ]
  },
  {
   "cell_type": "markdown",
   "metadata": {},
   "source": [
    "**Answer :** When the program is not prone to any logical or no need of user defined actions like user giving incorrect input which could lead into failure and also it shouldn't result in any internal errors then try-except scenario is not required"
   ]
  },
  {
   "cell_type": "markdown",
   "metadata": {},
   "source": [
    "**Exercise 5**  Try getting an input inside the try catch block"
   ]
  },
  {
   "cell_type": "code",
   "execution_count": 8,
   "metadata": {},
   "outputs": [
    {
     "name": "stdout",
     "output_type": "stream",
     "text": [
      "hi hello!\n",
      "hi hello!\n"
     ]
    }
   ],
   "source": [
    "try:\n",
    "    ip = input()\n",
    "    print(ip)\n",
    "    \n",
    "except Exception as e:\n",
    "    print('Exception !!\\n',e)"
   ]
  }
 ],
 "metadata": {
  "kernelspec": {
   "display_name": "Python 3",
   "language": "python",
   "name": "python3"
  },
  "language_info": {
   "codemirror_mode": {
    "name": "ipython",
    "version": 3
   },
   "file_extension": ".py",
   "mimetype": "text/x-python",
   "name": "python",
   "nbconvert_exporter": "python",
   "pygments_lexer": "ipython3",
   "version": "3.8.5"
  }
 },
 "nbformat": 4,
 "nbformat_minor": 4
}
